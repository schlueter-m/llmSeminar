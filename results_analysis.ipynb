{
 "cells": [
  {
   "cell_type": "markdown",
   "metadata": {},
   "source": [
    "# Evaluation and analysis of results"
   ]
  },
  {
   "cell_type": "code",
   "execution_count": 2,
   "metadata": {},
   "outputs": [],
   "source": [
    "import pandas as pd"
   ]
  },
  {
   "cell_type": "code",
   "execution_count": 24,
   "metadata": {},
   "outputs": [
    {
     "data": {
      "text/html": [
       "<div>\n",
       "<style scoped>\n",
       "    .dataframe tbody tr th:only-of-type {\n",
       "        vertical-align: middle;\n",
       "    }\n",
       "\n",
       "    .dataframe tbody tr th {\n",
       "        vertical-align: top;\n",
       "    }\n",
       "\n",
       "    .dataframe thead th {\n",
       "        text-align: right;\n",
       "    }\n",
       "</style>\n",
       "<table border=\"1\" class=\"dataframe\">\n",
       "  <thead>\n",
       "    <tr style=\"text-align: right;\">\n",
       "      <th></th>\n",
       "      <th>question_uid</th>\n",
       "      <th>gptAnswer_mcot</th>\n",
       "      <th>extractedAnswer_mcot</th>\n",
       "      <th>label</th>\n",
       "      <th>correct</th>\n",
       "      <th>problem</th>\n",
       "      <th>note</th>\n",
       "      <th>scale</th>\n",
       "      <th>derivation</th>\n",
       "    </tr>\n",
       "  </thead>\n",
       "  <tbody>\n",
       "    <tr>\n",
       "      <th>0</th>\n",
       "      <td>921d80d2-1ea6-4c31-bf06-6393e5ca70ab</td>\n",
       "      <td>The U.S. tax reform charge in 2019 was $146 mi...</td>\n",
       "      <td>$146 million</td>\n",
       "      <td>['146']</td>\n",
       "      <td>True</td>\n",
       "      <td>NaN</td>\n",
       "      <td>NaN</td>\n",
       "      <td>million</td>\n",
       "      <td>NaN</td>\n",
       "    </tr>\n",
       "    <tr>\n",
       "      <th>1</th>\n",
       "      <td>82233a8d-8e3d-4d17-ae97-ba62b4a8ba70</td>\n",
       "      <td>To calculate the total revenue between 2017 an...</td>\n",
       "      <td>$3,980.6 million</td>\n",
       "      <td>3980.6</td>\n",
       "      <td>True</td>\n",
       "      <td>NaN</td>\n",
       "      <td>NaN</td>\n",
       "      <td>million</td>\n",
       "      <td>1,536.7+1,378.2+1,065.7</td>\n",
       "    </tr>\n",
       "    <tr>\n",
       "      <th>2</th>\n",
       "      <td>32302c33-8761-4f54-9ca6-b6c1efc2e8d9</td>\n",
       "      <td>The components factored in when calculating th...</td>\n",
       "      <td>-</td>\n",
       "      <td>['Operating profit', 'Adjustments']</td>\n",
       "      <td>False</td>\n",
       "      <td>value detection</td>\n",
       "      <td>NaN</td>\n",
       "      <td>NaN</td>\n",
       "      <td>NaN</td>\n",
       "    </tr>\n",
       "    <tr>\n",
       "      <th>3</th>\n",
       "      <td>e604014a-4498-4c15-be8b-de955b3a2607</td>\n",
       "      <td>To calculate the ratio of compensation expense...</td>\n",
       "      <td>-0.0106</td>\n",
       "      <td>0.96</td>\n",
       "      <td>False</td>\n",
       "      <td>NaN</td>\n",
       "      <td>NaN</td>\n",
       "      <td>NaN</td>\n",
       "      <td>109.7/(0.41*278.29)</td>\n",
       "    </tr>\n",
       "    <tr>\n",
       "      <th>4</th>\n",
       "      <td>eff067ee-a81b-4831-be56-7f026f781434</td>\n",
       "      <td>To calculate the difference between the asset ...</td>\n",
       "      <td>0</td>\n",
       "      <td>-0.05</td>\n",
       "      <td>False</td>\n",
       "      <td>NaN</td>\n",
       "      <td>NaN</td>\n",
       "      <td>percent</td>\n",
       "      <td>(51.2/157.4)-(51.5/158.1)</td>\n",
       "    </tr>\n",
       "  </tbody>\n",
       "</table>\n",
       "</div>"
      ],
      "text/plain": [
       "                           question_uid  \\\n",
       "0  921d80d2-1ea6-4c31-bf06-6393e5ca70ab   \n",
       "1  82233a8d-8e3d-4d17-ae97-ba62b4a8ba70   \n",
       "2  32302c33-8761-4f54-9ca6-b6c1efc2e8d9   \n",
       "3  e604014a-4498-4c15-be8b-de955b3a2607   \n",
       "4  eff067ee-a81b-4831-be56-7f026f781434   \n",
       "\n",
       "                                      gptAnswer_mcot extractedAnswer_mcot  \\\n",
       "0  The U.S. tax reform charge in 2019 was $146 mi...         $146 million   \n",
       "1  To calculate the total revenue between 2017 an...     $3,980.6 million   \n",
       "2  The components factored in when calculating th...                   -    \n",
       "3  To calculate the ratio of compensation expense...              -0.0106   \n",
       "4  To calculate the difference between the asset ...                    0   \n",
       "\n",
       "                                 label  correct          problem note  \\\n",
       "0                              ['146']     True              NaN  NaN   \n",
       "1                               3980.6     True              NaN  NaN   \n",
       "2  ['Operating profit', 'Adjustments']    False  value detection  NaN   \n",
       "3                                 0.96    False              NaN  NaN   \n",
       "4                                -0.05    False              NaN  NaN   \n",
       "\n",
       "     scale                 derivation  \n",
       "0  million                        NaN  \n",
       "1  million    1,536.7+1,378.2+1,065.7  \n",
       "2      NaN                        NaN  \n",
       "3      NaN       109.7/(0.41*278.29)   \n",
       "4  percent  (51.2/157.4)-(51.5/158.1)  "
      ]
     },
     "execution_count": 24,
     "metadata": {},
     "output_type": "execute_result"
    }
   ],
   "source": [
    "# load data\n",
    "question_data = pd.read_excel(\"/home/maria/STUDIUM/Master/5.Semester/Seminar/llmSeminar/data/questions_overview_answerFromTable.xlsx\")\n",
    "results_b2 = pd.read_excel(\"/home/maria/STUDIUM/Master/5.Semester/Seminar/llmSeminar/data/predictions/preds_answerFromTable_b2.xlsx\")\n",
    "results_mcot = pd.read_excel(\"/home/maria/STUDIUM/Master/5.Semester/Seminar/llmSeminar/data/predictions/preds_answerFromTable_mcot.xlsx\")\n",
    "results_mcot.head()"
   ]
  },
  {
   "cell_type": "code",
   "execution_count": 25,
   "metadata": {},
   "outputs": [],
   "source": [
    "# concat evaluation of results to metadata df\n",
    "results_df = pd.concat([question_data, pd.Series(list(results_b2[\"correct\"]), name='correct_b2'), pd.Series(list(results_mcot[\"correct\"]), name='correct_mcot')], axis=1)"
   ]
  },
  {
   "cell_type": "code",
   "execution_count": 26,
   "metadata": {},
   "outputs": [
    {
     "name": "stdout",
     "output_type": "stream",
     "text": [
      "correct_b2\n",
      "True     0.65\n",
      "False    0.35\n",
      "Name: proportion, dtype: float64\n",
      "correct_mcot\n",
      "True     0.63\n",
      "False    0.37\n",
      "Name: proportion, dtype: float64\n"
     ]
    }
   ],
   "source": [
    "# percentage of correct/false answers\n",
    "print(results_df[\"correct_b2\"].value_counts(normalize=True))\n",
    "\n",
    "print(results_df[\"correct_mcot\"].value_counts(normalize=True))"
   ]
  },
  {
   "cell_type": "code",
   "execution_count": 27,
   "metadata": {},
   "outputs": [
    {
     "name": "stdout",
     "output_type": "stream",
     "text": [
      "table_small  correct_b2\n",
      "False        True          0.6\n",
      "             False         0.4\n",
      "True         True          0.7\n",
      "             False         0.3\n",
      "Name: proportion, dtype: float64\n",
      "table_small  correct_mcot\n",
      "False        True            0.54\n",
      "             False           0.46\n",
      "True         True            0.72\n",
      "             False           0.28\n",
      "Name: proportion, dtype: float64\n"
     ]
    }
   ],
   "source": [
    "# by table size\n",
    "print(results_df.groupby([\"table_small\"])[\"correct_b2\"].value_counts(normalize=True))\n",
    "\n",
    "print(results_df.groupby([\"table_small\"])[\"correct_mcot\"].value_counts(normalize=True))"
   ]
  },
  {
   "cell_type": "code",
   "execution_count": 29,
   "metadata": {},
   "outputs": [
    {
     "name": "stdout",
     "output_type": "stream",
     "text": [
      "category                    correct_b2\n",
      "Multi-span                  False         0.700000\n",
      "                            True          0.300000\n",
      "arithmetic                  True          0.583333\n",
      "                            False         0.416667\n",
      "count                       True          1.000000\n",
      "span (no comparison)        True          0.900000\n",
      "                            False         0.100000\n",
      "span (requires comparison)  True          0.800000\n",
      "                            False         0.200000\n",
      "Name: proportion, dtype: float64\n",
      "category                    correct_mcot\n",
      "Multi-span                  False           0.500000\n",
      "                            True            0.500000\n",
      "arithmetic                  True            0.533333\n",
      "                            False           0.466667\n",
      "count                       True            0.900000\n",
      "                            False           0.100000\n",
      "span (no comparison)        True            0.900000\n",
      "                            False           0.100000\n",
      "span (requires comparison)  True            0.800000\n",
      "                            False           0.200000\n",
      "Name: proportion, dtype: float64\n"
     ]
    }
   ],
   "source": [
    "# by category\n",
    "print(results_df.groupby([\"category\"])[\"correct_b2\"].value_counts(normalize=True))\n",
    "\n",
    "print(results_df.groupby([\"category\"])[\"correct_mcot\"].value_counts(normalize=True))"
   ]
  },
  {
   "cell_type": "code",
   "execution_count": 30,
   "metadata": {},
   "outputs": [
    {
     "name": "stdout",
     "output_type": "stream",
     "text": [
      "category                    category_finegrained        correct_b2\n",
      "Multi-span                  Multi-span                  False         0.7\n",
      "                                                        True          0.3\n",
      "arithmetic                  average                     True          0.6\n",
      "                                                        False         0.4\n",
      "                            difference                  True          0.6\n",
      "                                                        False         0.4\n",
      "                            percentage change           False         0.5\n",
      "                                                        True          0.5\n",
      "                            percentage of               True          0.7\n",
      "                                                        False         0.3\n",
      "                            ratio                       False         0.5\n",
      "                                                        True          0.5\n",
      "                            total                       True          0.6\n",
      "                                                        False         0.4\n",
      "count                       count                       True          1.0\n",
      "span (no comparison)        span (no comparison)        True          0.9\n",
      "                                                        False         0.1\n",
      "span (requires comparison)  span (requires comparison)  True          0.8\n",
      "                                                        False         0.2\n",
      "Name: proportion, dtype: float64\n",
      "category                    category_finegrained        correct_mcot\n",
      "Multi-span                  Multi-span                  True            0.5\n",
      "                                                        False           0.5\n",
      "arithmetic                  average                     True            0.5\n",
      "                                                        False           0.5\n",
      "                            difference                  True            0.5\n",
      "                                                        False           0.5\n",
      "                            percentage change           True            0.6\n",
      "                                                        False           0.4\n",
      "                            percentage of               True            0.5\n",
      "                                                        False           0.5\n",
      "                            ratio                       True            0.5\n",
      "                                                        False           0.5\n",
      "                            total                       True            0.6\n",
      "                                                        False           0.4\n",
      "count                       count                       True            0.9\n",
      "                                                        False           0.1\n",
      "span (no comparison)        span (no comparison)        True            0.9\n",
      "                                                        False           0.1\n",
      "span (requires comparison)  span (requires comparison)  True            0.8\n",
      "                                                        False           0.2\n",
      "Name: proportion, dtype: float64\n"
     ]
    }
   ],
   "source": [
    "# by category (finegrained)\n",
    "print(results_df.groupby([\"category\", \"category_finegrained\"])[\"correct_b2\"].value_counts(normalize=True))\n",
    "\n",
    "print(results_df.groupby([\"category\", \"category_finegrained\"])[\"correct_mcot\"].value_counts(normalize=True))"
   ]
  },
  {
   "cell_type": "code",
   "execution_count": 31,
   "metadata": {},
   "outputs": [
    {
     "data": {
      "text/plain": [
       "category                    table_small  correct_b2\n",
       "Multi-span                  False        False         0.800000\n",
       "                                         True          0.200000\n",
       "                            True         False         0.600000\n",
       "                                         True          0.400000\n",
       "arithmetic                  False        False         0.500000\n",
       "                                         True          0.500000\n",
       "                            True         True          0.666667\n",
       "                                         False         0.333333\n",
       "count                       False        True          1.000000\n",
       "                            True         True          1.000000\n",
       "span (no comparison)        False        True          0.800000\n",
       "                                         False         0.200000\n",
       "                            True         True          1.000000\n",
       "span (requires comparison)  False        True          1.000000\n",
       "                            True         True          0.600000\n",
       "                                         False         0.400000\n",
       "Name: proportion, dtype: float64"
      ]
     },
     "execution_count": 31,
     "metadata": {},
     "output_type": "execute_result"
    }
   ],
   "source": [
    "# by table size & category\n",
    "results_df.groupby([\"category\", \"table_small\"])[\"correct_b2\"].value_counts(normalize=True)"
   ]
  }
 ],
 "metadata": {
  "kernelspec": {
   "display_name": "llmSeminar",
   "language": "python",
   "name": "python3"
  },
  "language_info": {
   "codemirror_mode": {
    "name": "ipython",
    "version": 3
   },
   "file_extension": ".py",
   "mimetype": "text/x-python",
   "name": "python",
   "nbconvert_exporter": "python",
   "pygments_lexer": "ipython3",
   "version": "3.12.0"
  }
 },
 "nbformat": 4,
 "nbformat_minor": 2
}
